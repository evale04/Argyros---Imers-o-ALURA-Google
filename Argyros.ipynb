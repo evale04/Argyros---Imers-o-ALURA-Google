{
  "nbformat": 4,
  "nbformat_minor": 0,
  "metadata": {
    "colab": {
      "provenance": [],
      "name": "Argyros.ipynb",
      "authorship_tag": "ABX9TyOsV64ypFJ0MDMUy4seoJgm",
      "include_colab_link": true
    },
    "kernelspec": {
      "name": "python3",
      "display_name": "Python 3"
    },
    "language_info": {
      "name": "python"
    }
  },
  "cells": [
    {
      "cell_type": "markdown",
      "metadata": {
        "id": "view-in-github",
        "colab_type": "text"
      },
      "source": [
        "<a href=\"https://colab.research.google.com/github/evale04/Argyros_Imersao_Alura-Google/blob/main/Argyros.ipynb\" target=\"_parent\"><img src=\"https://colab.research.google.com/assets/colab-badge.svg\" alt=\"Open In Colab\"/></a>"
      ]
    },
    {
      "cell_type": "code",
      "source": [
        "!pip install -U -q google-generativeai\n",
        "!pip install webdriver-manager\n",
        "!pip install selenium\n",
        "!pip install webdriver-manager\n",
        "\n",
        "\n"
      ],
      "metadata": {
        "collapsed": true,
        "id": "VbxJDSeB1RUF"
      },
      "execution_count": null,
      "outputs": []
    },
    {
      "cell_type": "code",
      "source": [
        "#Listando os modelos disponíveis\n",
        "for m in genai.list_models():\n",
        "  if 'generateContent' in m.supported_generation_methods:\n",
        "    print(m.name)"
      ],
      "metadata": {
        "id": "RkKZij4oRCiG"
      },
      "execution_count": null,
      "outputs": []
    },
    {
      "cell_type": "code",
      "source": [
        "safety_settings={\n",
        "    'HATE': 'BLOCK_NONE',\n",
        "    'HARASSMENT': 'BLOCK_NONE',\n",
        "    'SEXUAL' : 'BLOCK_NONE',\n",
        "    'DANGEROUS' : 'BLOCK_NONE'\n",
        "    }"
      ],
      "metadata": {
        "id": "-tGhjMVgW0h_"
      },
      "execution_count": null,
      "outputs": []
    },
    {
      "cell_type": "code",
      "source": [
        "generation_config = {\n",
        "  \"candidate_count\": 1,\n",
        "  \"temperature\": 0.5,\n",
        "}"
      ],
      "metadata": {
        "id": "bdT7kezTWz1H"
      },
      "execution_count": null,
      "outputs": []
    },
    {
      "cell_type": "code",
      "source": [
        "model = genai.GenerativeModel(model_name='gemini-1.0-pro',\n",
        "                                  generation_config=generation_config,\n",
        "                                  safety_settings=safety_settings,)"
      ],
      "metadata": {
        "id": "xNCxE9hbR2j2"
      },
      "execution_count": null,
      "outputs": []
    },
    {
      "cell_type": "code",
      "source": [
        "import pandas as pd\n",
        "import google.generativeai as genai\n",
        "\n",
        "# Configurar a chave de API do Gemini\n",
        "GOOGLE_API_KEY = \"SUA CHAVE\"  # Substitua pela sua chave de API\n",
        "genai.configure(api_key=GOOGLE_API_KEY)\n",
        "\n",
        "def welcome_message():\n",
        "    print(\"Olá! Seja muito bem-vindo! Meu nome é Argyros e estou aqui para ser o seu consultor particular de Investimentos na B3! 😊\")\n",
        "    print(\"Com o poder do Gemini, posso oferecer análises e insights poderosos. 🚀\")\n",
        "    print(\"Estou aqui para tirar suas dúvidas sobre investimentos, planejamento financeiro e muito mais. 💡💰\")\n",
        "    print(\"Minha especialidade é analisar os Ativos da B3 e fornecer um feedback baseado nas mais famosas teorias de investimento e no seu perfil de investidor. Se quiser experimentar, basta inserir o termo ajuda'Ajuda' no campo e seguir as instruções. 🔍📊\")\n",
        "    print(\"Venha conosco nessa aventura na Bolsa de Valores! 📈🌟\")\n",
        "\n",
        "def determinar_perfil_investidor():\n",
        "    # Fazer perguntas ao usuário para determinar o perfil de investidor\n",
        "    resposta_tolerancia_risco = input(\n",
        "        \"Quão confortável você se sente com a possibilidade de perder dinheiro? (Alta, Média, Baixa): \"\n",
        "    )\n",
        "    resposta_experiencia = input(\"Você já investiu na bolsa de valores antes? (Sim, Não): \")\n",
        "    resposta_objetivos = input(\n",
        "        \"Quais são seus objetivos com os investimentos? (Curto prazo, Médio prazo, Longo prazo): \"\n",
        "    )\n",
        "    resposta_horizonte = input(\n",
        "        \"Por quanto tempo você pretende investir? (Até 1 ano, 1 a 5 anos, Mais de 5 anos): \"\n",
        "    )\n",
        "\n",
        "    # Enviar as respostas do usuário para o Gemini para gerar uma resposta\n",
        "    prompt = f\"\"\"\n",
        "    Você é um especialista em investimentos e seu nome agora é Argyros.\n",
        "    Determine o perfil de investidor de um usuário com base nas seguintes respostas:\n",
        "    Tolerância a risco: {resposta_tolerancia_risco}\n",
        "    Experiência: {resposta_experiencia}\n",
        "    Objetivos: {resposta_objetivos}\n",
        "    Horizonte de investimento: {resposta_horizonte}\n",
        "\n",
        "    Responda no seguinte formato:\n",
        "    O perfil de investidor do usuário é: [perfil]\n",
        "    \"\"\"\n",
        "    model_name = \"models/gemini-1.0-pro\"\n",
        "    response = model.generate_content(prompt)\n",
        "    output = response.text.strip()\n",
        "    print(output)\n",
        "    # Extrair o perfil de investidor da resposta do Gemini\n",
        "    perfil_investidor = output[output.find(\":\") + 1:].strip()\n",
        "    return perfil_investidor\n",
        "\n",
        "def get_model_name(generation_method):\n",
        "    models = genai.list_models()\n",
        "    for m in models:\n",
        "        if generation_method in m.supported_generation_methods:\n",
        "            return m.name\n",
        "    raise ValueError(\"Nenhum modelo encontrado para o método de geração especificado.\")\n",
        "\n",
        "def get_stock_info(ticker):\n",
        "    try:\n",
        "        # Carregar o arquivo CSV\n",
        "        df = pd.read_csv(\"/content/sample_data/statusinvest-busca-avancada.csv\")\n",
        "\n",
        "        # Filtrar as informações para o ticker específico\n",
        "        stock_data = df[df['TICKER'] == ticker]\n",
        "\n",
        "        # Verificar se o ticker existe no arquivo CSV\n",
        "        if stock_data.empty:\n",
        "            return \"Ticker não encontrado no arquivo CSV.\"\n",
        "\n",
        "        # Extrair as informações relevantes do DataFrame\n",
        "        stock_info = {\n",
        "            \"PRECO\": stock_data[\"PRECO\"].values[0],\n",
        "            \"DY\": stock_data[\"DY\"].values[0],\n",
        "            \"P/L\": stock_data[\"P/L\"].values[0],\n",
        "            \"P/VP\": stock_data[\"P/VP\"].values[0],\n",
        "            \"P/ATIVOS\": stock_data[\"P/ATIVOS\"].values[0],\n",
        "            \"MARGEM BRUTA\": stock_data[\"MARGEM BRUTA\"].values[0],\n",
        "            \"MARGEM EBIT\": stock_data[\"MARGEM EBIT\"].values[0],\n",
        "            \"MARG. LIQUIDA\": stock_data[\"MARG. LIQUIDA\"].values[0],\n",
        "            \"P/EBIT\": stock_data[\"P/EBIT\"].values[0],\n",
        "            \"EV/EBIT\": stock_data[\"EV/EBIT\"].values[0],\n",
        "            \"DIVIDA LIQUIDA / EBIT\": stock_data[\"DIVIDA LIQUIDA / EBIT\"].values[0],\n",
        "            \"DIV. LIQ. / PATRI.\": stock_data[\"DIV. LIQ. / PATRI.\"].values[0],\n",
        "            \"PSR\": stock_data[\"PSR\"].values[0],\n",
        "            \"P/CAP. GIRO\": stock_data[\"P/CAP. GIRO\"].values[0],\n",
        "            \"P. AT CIR. LIQ.\": stock_data[\"P. AT CIR. LIQ.\"].values[0],\n",
        "            \"LIQ. CORRENTE\": stock_data[\"LIQ. CORRENTE\"].values[0],\n",
        "            \"ROE\": stock_data[\"ROE\"].values[0],\n",
        "            \"ROA\": stock_data[\"ROA\"].values[0],\n",
        "            \"ROIC\": stock_data[\"ROIC\"].values[0],\n",
        "            \"PATRIMONIO / ATIVOS\": stock_data[\"PATRIMONIO / ATIVOS\"].values[0],\n",
        "            \"PASSIVOS / ATIVOS\": stock_data[\"PASSIVOS / ATIVOS\"].values[0],\n",
        "            \"GIRO ATIVOS\": stock_data[\"GIRO ATIVOS\"].values[0],\n",
        "            \"CAGR RECEITAS 5 ANOS\": stock_data[\"CAGR RECEITAS 5 ANOS\"].values[0],\n",
        "            \"CAGR LUCROS 5 ANOS\": stock_data[\"CAGR LUCROS 5 ANOS\"].values[0],\n",
        "            #\"LIQUIDEZ MEDIA DIARIA\": stock_data[\"LIQUIDEZ MEDIA DIARIA\"].values[0],\n",
        "            #\"VPA\": stock_data[\"VPA\"].values[0],\n",
        "            #\"LPA\": stock_data[\"LPA\"].values[0],\n",
        "            #\"PEG Ratio\": stock_data[\"PEG Ratio\"].values[0],\n",
        "            #\"VALOR DE MERCADO\": stock_data[\"VALOR DE MERCADO\"].values[0]\n",
        "        }\n",
        "\n",
        "        return stock_info\n",
        "    except Exception as e:\n",
        "        print(f\"Erro: {e}\")\n",
        "        return \"Erro ao obter os dados da ação do arquivo CSV.\"\n",
        "\n",
        "\n",
        "\n",
        "def answer_question(question):\n",
        "    try:\n",
        "        if \"Ajuda\" or \"ajuda\"  in question:\n",
        "            ticker = input(\"Com prazer, qual o ticker(Sigla) da ação que você deseja consultar? \").upper()\n",
        "            stock_data = get_stock_info(ticker)\n",
        "            if isinstance(stock_data, dict):\n",
        "                prompt = f\"\"\"\n",
        "                Imagine que Você é um especialista em investimentos, levemente bem humorado, com linguagem jovial e um pouco despojada e seu nome é Argyros. Seja gentil e amigavel\n",
        "                Analise a ação {ticker} para um investidor com perfil, usando o método de Graham, Gordon e Basin com base nos seguintes dados:\n",
        "                {stock_data}\n",
        "                Responda no seguinte formato e adicione a sua opinião no final:\n",
        "                **Análise da ação {ticker} pelo método de Graham, Gordon e Basin**\n",
        "                **Valor intrínseco (Graham):** [valor intrínseco]\n",
        "                **Margem de segurança (Graham):** [margem de segurança]\n",
        "                **Preço atual:** [preço atual]\n",
        "                **Preço alvo:** [preço alvo]\n",
        "                **Recomendação:** [recomendação]\n",
        "                \"\"\"\n",
        "                response = model.generate_content(prompt)\n",
        "                output = response.text.strip()\n",
        "                return output\n",
        "            else:\n",
        "                return \"Erro ao obter os dados da ação\"\n",
        "        else:\n",
        "              prompt = f\"\"\" Imagine que você é um especialista em mercado financeiro brasileiro e repsosta a pergunta: {question} \"\"\"\n",
        "              model_name = get_model_name(\"generateContent\")\n",
        "              response = model.generate_content(prompt)\n",
        "              output = response.text.strip()\n",
        "              return output\n",
        "    except Exception as e:\n",
        "              prompt = f\"\"\" Imagine que você é um especialista em mercado financeiro brasileiro e repsosta a pergunta: {question} \"\"\"\n",
        "              model_name = get_model_name(\"generateContent\")\n",
        "              response = model.generate_content(prompt)\n",
        "              output = response.text.strip()\n",
        "              return output\n",
        "\n",
        "\n",
        "\n",
        "\n",
        "def main():\n",
        "    welcome_message()\n",
        "    perfil_investidor = determinar_perfil_investidor()\n",
        "    while True:\n",
        "        question = input(\"\\nO que você gostaria de saber? (Digite 'sair' para encerrar) \").lower()\n",
        "        if question == \"sair\":\n",
        "            break\n",
        "        answer = answer_question(question)\n",
        "        print(f\"\\n{answer}\")\n",
        "\n",
        "if __name__ == \"__main__\":\n",
        "    main()\n",
        "\n"
      ],
      "metadata": {
        "id": "MPR44zLgLBP4"
      },
      "execution_count": null,
      "outputs": []
    }
  ]
}